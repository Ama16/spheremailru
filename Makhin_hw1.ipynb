{
 "cells": [
  {
   "cell_type": "markdown",
   "metadata": {},
   "source": [
    "**Общая информация**\n",
    "\n",
    "**Срок сдачи:** 20 марта 2019, 06:00 <br\\>\n",
    "**Штраф за опоздание:** -1 балл после 06:00 20 марта, -2 балла после 06:00 27 марта, -3 балла после 06:00 3 апреля\n",
    "\n",
    "При отправлении ДЗ указывайте фамилию в названии файла\n",
    "Присылать ДЗ необходимо в виде ссылки на свой github репозиторий в slack @alkhamush\n",
    "\n",
    "Необходимо в slack скинуть ссылку в личный чат @alkhamush\n",
    "Пример ссылки:\n",
    "https://github.com/stroykova/spheremailru/stroykova_hw1.ipynb \n",
    "\n",
    "\n",
    "Используйте данный Ipython Notebook при оформлении домашнего задания."
   ]
  },
  {
   "cell_type": "markdown",
   "metadata": {},
   "source": [
    "###### Задание 1 (2 баллов)\n",
    "Реализовать KNN в классе MyKNeighborsClassifier (обязательное условие: точность не ниже sklearn реализации)\n",
    "Разберитесь самостоятельно, какая мера расстояния используется в KNeighborsClassifier дефолтно и реализуйте свой алгоритм именно с этой мерой. Самостоятельно разберитесь, как считается score из KNeighborsClassifier и реализуйте аналог в своём классе. Score не должен уступать значению KNN из sklearn\n",
    "\n",
    "###### Задание 2 (2 балла)\n",
    "Добиться скорости работы на fit,  predict и predict_proba сравнимой со sklearn для iris и mnist\n",
    "Для этого используем numpy\n",
    "\n",
    "###### Задание 3 (2 балла)\n",
    "Для iris найдите такой параметр n_neighbors, при котором выдаётся наилучший score. Нарисуйте график зависимости score от n_neighbors\n",
    "\n",
    "###### Задание 4 (3 балла)\n",
    "Добавить algorithm='kd_tree' в реализацию KNN (использовать KDTree из sklearn.neighbors). Значение n_neighbors нужно взять из задания 3. Добиться скорости работы на fit,  predict и predict_proba сравнимой со sklearn для iris и mnist\n",
    "Для этого используем numpy. Score не должен уступать значению KNN из sklearn\n",
    "\n",
    "###### Задание 5 (1 балла)\n",
    "Описать для чего нужны следующие библиотеки/классы/функции (список будет ниже)\n",
    "\n",
    "**Штрафные баллы:**\n",
    "\n",
    "1. Невыполнение PEP8 -1 балл\n",
    "2. Отсутствие фамилии в имени скрипта (скрипт должен называться по аналогии со stroykova_hw1.ipynb) -1 балл\n",
    "3. Все строчки должны быть выполнены. Нужно, чтобы output команды можно было увидеть уже в git'е. В противном случае -1 балл\n",
    "4. При оформлении ДЗ нужно пользоваться данным файлом в качестве шаблона. Не нужно удалять и видоизменять структуру кода и текст. В противном случае -1 балл\n"
   ]
  },
  {
   "cell_type": "code",
   "execution_count": 25,
   "metadata": {},
   "outputs": [
    {
     "name": "stdout",
     "output_type": "stream",
     "text": [
      "The pycodestyle_magic extension is already loaded. To reload it, use:\n",
      "  %reload_ext pycodestyle_magic\n"
     ]
    }
   ],
   "source": [
    "import numpy as np\n",
    "import matplotlib.pyplot as plt\n",
    "\n",
    "from sklearn import neighbors\n",
    "import seaborn as sns\n",
    "from sklearn import datasets\n",
    "from sklearn.base import ClassifierMixin\n",
    "from sklearn.datasets import fetch_mldata\n",
    "from sklearn.neighbors.base import NeighborsBase, KNeighborsMixin, SupervisedIntegerMixin \n",
    "from sklearn.model_selection import train_test_split\n",
    "from sklearn.neighbors import KNeighborsClassifier\n",
    "%load_ext pycodestyle_magic"
   ]
  },
  {
   "cell_type": "code",
   "execution_count": 26,
   "metadata": {},
   "outputs": [],
   "source": [
    "#%%pycodestyle\n",
    "\n",
    "\n",
    "class MyKNeighborsClassifier(NeighborsBase, KNeighborsMixin,\n",
    "                             SupervisedIntegerMixin, ClassifierMixin):\n",
    "\n",
    "    def __init__(self, n_neighbors, algorithm='brute'):\n",
    "        self.n_neighbors = n_neighbors\n",
    "        self.algorithm = algorithm\n",
    "\n",
    "    def fit(self, X, y):\n",
    "        self.Y = np.array(y).astype(int)\n",
    "        if self.algorithm == 'brute':\n",
    "            self.train_x = np.array(X).astype(float)\n",
    "        else:\n",
    "            self.tree = neighbors.KDTree(np.array(X))\n",
    "        self.classes = len(np.unique(self.Y))\n",
    "\n",
    "    def __nearest_neighbors(self, X):\n",
    "        array = np.zeros((X.shape[0], self.classes))\n",
    "        k = 0\n",
    "        for i in X:\n",
    "            copy_test = np.copy(self.train_x)\n",
    "            copy_test = [np.linalg.norm(l-i) for l in copy_test]\n",
    "            a = np.argpartition(copy_test, self.n_neighbors)[:self.n_neighbors]\n",
    "            for j in a:\n",
    "                b = self.Y[j]\n",
    "                array[k][b] += 1\n",
    "            k += 1\n",
    "        return array\n",
    "\n",
    "    def predict_brute(self, X):\n",
    "        self.nn = self.__nearest_neighbors(X)\n",
    "        answer = [np.argmax(i) for i in\n",
    "                  self.nn]\n",
    "        return np.array(answer)\n",
    "\n",
    "    def predict_tree(self, X):\n",
    "        array = np.array([])\n",
    "        (distance, indexes) = self.tree.query(X, k=self.n_neighbors)\n",
    "        for i in self.Y[indexes]:\n",
    "            array = np.append(array,\n",
    "                              np.bincount(i).argmax())\n",
    "        return array.astype(int)\n",
    "\n",
    "    def predict(self, X):\n",
    "        if self.algorithm == 'brute':\n",
    "            return self.predict_brute(X)\n",
    "        if self.algorithm == 'kd_tree':\n",
    "            return self.predict_tree(X)\n",
    "\n",
    "    def predict_proba_brute(self, X):\n",
    "        array = np.divide(self.nn,\n",
    "                          self.n_neighbors)\n",
    "        return array\n",
    "\n",
    "    def predict_proba_tree(self, X):\n",
    "        array = np.array([])\n",
    "        (distance, indexes) = self.tree.query(X, k=self.n_neighbors)\n",
    "        for i in self.Y[indexes]:\n",
    "            now = np.array([])\n",
    "            for j in range(self.classes):\n",
    "                now = np.append(now, np.count_nonzero(i == j))\n",
    "            array = np.append(array, now)\n",
    "        return np.divide(array, self.n_neighbors)\n",
    "\n",
    "    def predict_proba(self, X):\n",
    "        if self.algorithm == 'brute':\n",
    "            return self.predict_proba_brute(X)\n",
    "        if self.algorithm == 'kd_tree':\n",
    "            return self.predict_proba_tree(X)\n",
    "\n",
    "    def score(self, X, y):\n",
    "        array = np.subtract(self.predict(X), y)\n",
    "        s = np.count_nonzero(array)\n",
    "        return 1 - s / y.shape[0]"
   ]
  },
  {
   "cell_type": "markdown",
   "metadata": {},
   "source": [
    "**IRIS**"
   ]
  },
  {
   "cell_type": "code",
   "execution_count": 4,
   "metadata": {},
   "outputs": [],
   "source": [
    "iris = datasets.load_iris()"
   ]
  },
  {
   "cell_type": "code",
   "execution_count": 5,
   "metadata": {},
   "outputs": [],
   "source": [
    "X_train, X_test, y_train, y_test = train_test_split(iris.data, iris.target, test_size=0.1, stratify=iris.target)"
   ]
  },
  {
   "cell_type": "code",
   "execution_count": 6,
   "metadata": {},
   "outputs": [],
   "source": [
    "clf = KNeighborsClassifier(n_neighbors=2)\n",
    "my_clf = MyKNeighborsClassifier(n_neighbors=2)"
   ]
  },
  {
   "cell_type": "code",
   "execution_count": 7,
   "metadata": {},
   "outputs": [
    {
     "name": "stdout",
     "output_type": "stream",
     "text": [
      "Wall time: 0 ns\n"
     ]
    },
    {
     "data": {
      "text/plain": [
       "KNeighborsClassifier(algorithm='auto', leaf_size=30, metric='minkowski',\n",
       "           metric_params=None, n_jobs=None, n_neighbors=2, p=2,\n",
       "           weights='uniform')"
      ]
     },
     "execution_count": 7,
     "metadata": {},
     "output_type": "execute_result"
    }
   ],
   "source": [
    "%time clf.fit(X_train, y_train)"
   ]
  },
  {
   "cell_type": "code",
   "execution_count": 8,
   "metadata": {},
   "outputs": [
    {
     "name": "stdout",
     "output_type": "stream",
     "text": [
      "Wall time: 0 ns\n"
     ]
    }
   ],
   "source": [
    "%time my_clf.fit(X_train, y_train)"
   ]
  },
  {
   "cell_type": "code",
   "execution_count": 9,
   "metadata": {},
   "outputs": [
    {
     "name": "stdout",
     "output_type": "stream",
     "text": [
      "Wall time: 15.6 ms\n"
     ]
    },
    {
     "data": {
      "text/plain": [
       "array([0, 0, 1, 2, 2, 1, 0, 1, 0, 1, 1, 0, 1, 2, 2])"
      ]
     },
     "execution_count": 9,
     "metadata": {},
     "output_type": "execute_result"
    }
   ],
   "source": [
    "%time clf.predict(X_test)"
   ]
  },
  {
   "cell_type": "code",
   "execution_count": 10,
   "metadata": {},
   "outputs": [
    {
     "name": "stdout",
     "output_type": "stream",
     "text": [
      "Wall time: 62.5 ms\n"
     ]
    },
    {
     "data": {
      "text/plain": [
       "array([0, 0, 1, 2, 2, 1, 0, 1, 0, 1, 1, 0, 1, 2, 2], dtype=int64)"
      ]
     },
     "execution_count": 10,
     "metadata": {},
     "output_type": "execute_result"
    }
   ],
   "source": [
    "%time my_clf.predict(X_test)"
   ]
  },
  {
   "cell_type": "code",
   "execution_count": 11,
   "metadata": {},
   "outputs": [
    {
     "name": "stdout",
     "output_type": "stream",
     "text": [
      "Wall time: 15.6 ms\n"
     ]
    },
    {
     "data": {
      "text/plain": [
       "array([[1. , 0. , 0. ],\n",
       "       [1. , 0. , 0. ],\n",
       "       [0. , 1. , 0. ],\n",
       "       [0. , 0. , 1. ],\n",
       "       [0. , 0. , 1. ],\n",
       "       [0. , 1. , 0. ],\n",
       "       [1. , 0. , 0. ],\n",
       "       [0. , 1. , 0. ],\n",
       "       [1. , 0. , 0. ],\n",
       "       [0. , 1. , 0. ],\n",
       "       [0. , 0.5, 0.5],\n",
       "       [1. , 0. , 0. ],\n",
       "       [0. , 1. , 0. ],\n",
       "       [0. , 0. , 1. ],\n",
       "       [0. , 0. , 1. ]])"
      ]
     },
     "execution_count": 11,
     "metadata": {},
     "output_type": "execute_result"
    }
   ],
   "source": [
    "%time clf.predict_proba(X_test)"
   ]
  },
  {
   "cell_type": "code",
   "execution_count": 12,
   "metadata": {},
   "outputs": [
    {
     "name": "stdout",
     "output_type": "stream",
     "text": [
      "Wall time: 0 ns\n"
     ]
    },
    {
     "data": {
      "text/plain": [
       "array([[1. , 0. , 0. ],\n",
       "       [1. , 0. , 0. ],\n",
       "       [0. , 1. , 0. ],\n",
       "       [0. , 0. , 1. ],\n",
       "       [0. , 0. , 1. ],\n",
       "       [0. , 1. , 0. ],\n",
       "       [1. , 0. , 0. ],\n",
       "       [0. , 1. , 0. ],\n",
       "       [1. , 0. , 0. ],\n",
       "       [0. , 1. , 0. ],\n",
       "       [0. , 0.5, 0.5],\n",
       "       [1. , 0. , 0. ],\n",
       "       [0. , 1. , 0. ],\n",
       "       [0. , 0. , 1. ],\n",
       "       [0. , 0. , 1. ]])"
      ]
     },
     "execution_count": 12,
     "metadata": {},
     "output_type": "execute_result"
    }
   ],
   "source": [
    "%time my_clf.predict_proba(X_test)"
   ]
  },
  {
   "cell_type": "code",
   "execution_count": 13,
   "metadata": {},
   "outputs": [
    {
     "data": {
      "text/plain": [
       "0.9333333333333333"
      ]
     },
     "execution_count": 13,
     "metadata": {},
     "output_type": "execute_result"
    }
   ],
   "source": [
    "clf.score(X_test, y_test)"
   ]
  },
  {
   "cell_type": "code",
   "execution_count": 14,
   "metadata": {},
   "outputs": [
    {
     "data": {
      "text/plain": [
       "0.9333333333333333"
      ]
     },
     "execution_count": 14,
     "metadata": {},
     "output_type": "execute_result"
    }
   ],
   "source": [
    "my_clf.score(X_test, y_test)"
   ]
  },
  {
   "cell_type": "markdown",
   "metadata": {},
   "source": [
    "Задание 3"
   ]
  },
  {
   "cell_type": "code",
   "execution_count": 15,
   "metadata": {},
   "outputs": [],
   "source": [
    "import pandas as pd"
   ]
  },
  {
   "cell_type": "code",
   "execution_count": 19,
   "metadata": {},
   "outputs": [
    {
     "name": "stdout",
     "output_type": "stream",
     "text": [
      "2\n"
     ]
    },
    {
     "data": {
      "text/plain": [
       "[<matplotlib.lines.Line2D at 0x37b29be3c8>]"
      ]
     },
     "execution_count": 19,
     "metadata": {},
     "output_type": "execute_result"
    },
    {
     "data": {
      "image/png": "[encoded data removed]",
      "text/plain": [
       "<Figure size 432x288 with 1 Axes>"
      ]
     },
     "metadata": {
      "needs_background": "light"
     },
     "output_type": "display_data"
    }
   ],
   "source": [
    "score = []\n",
    "neighbors = []\n",
    "best_neighbors = 0\n",
    "best_score = 0\n",
    "for i in range (1, 30):\n",
    "    neighbors.append(i)\n",
    "    sum_score = 0\n",
    "    for j in range (15):\n",
    "        X_train, X_test, y_train, y_test = train_test_split(iris.data, \n",
    "                                                            iris.target, \n",
    "                                                            test_size=0.1, \n",
    "                                                            stratify=iris.target)\n",
    "        clf.fit(X_train, y_train)\n",
    "        sum_score += clf.score(X_test, y_test)\n",
    "    score.append(sum_score/15)\n",
    "    if (sum_score > best_score):\n",
    "        best_score = sum_score\n",
    "        best_neighbors = i\n",
    "print(best_neighbors)\n",
    "plt.plot(neighbors, score)"
   ]
  },
  {
   "cell_type": "markdown",
   "metadata": {},
   "source": [
    "**MNIST**"
   ]
  },
  {
   "cell_type": "code",
   "execution_count": 20,
   "metadata": {},
   "outputs": [],
   "source": [
    "from mlxtend.data import loadlocal_mnist"
   ]
  },
  {
   "cell_type": "code",
   "execution_count": 4,
   "metadata": {},
   "outputs": [],
   "source": [
    "X, y = loadlocal_mnist(\n",
    "        images_path='/mnist/train-images.idx3-ubyte',\n",
    "        labels_path='/mnist/train-labels.idx1-ubyte')"
   ]
  },
  {
   "cell_type": "code",
   "execution_count": 5,
   "metadata": {},
   "outputs": [],
   "source": [
    "X_train, X_test, y_train, y_test = train_test_split(X, y, test_size=0.01, stratify=y)"
   ]
  },
  {
   "cell_type": "code",
   "execution_count": 9,
   "metadata": {},
   "outputs": [],
   "source": [
    "clf = KNeighborsClassifier(n_neighbors=2)\n",
    "my_clf = MyKNeighborsClassifier(n_neighbors=2)"
   ]
  },
  {
   "cell_type": "code",
   "execution_count": 10,
   "metadata": {},
   "outputs": [
    {
     "name": "stdout",
     "output_type": "stream",
     "text": [
      "Wall time: 1min 27s\n"
     ]
    },
    {
     "data": {
      "text/plain": [
       "KNeighborsClassifier(algorithm='auto', leaf_size=30, metric='minkowski',\n",
       "           metric_params=None, n_jobs=None, n_neighbors=2, p=2,\n",
       "           weights='uniform')"
      ]
     },
     "execution_count": 10,
     "metadata": {},
     "output_type": "execute_result"
    }
   ],
   "source": [
    "%time clf.fit(X_train, y_train)"
   ]
  },
  {
   "cell_type": "code",
   "execution_count": 12,
   "metadata": {},
   "outputs": [
    {
     "name": "stdout",
     "output_type": "stream",
     "text": [
      "Wall time: 406 ms\n"
     ]
    }
   ],
   "source": [
    "%time my_clf.fit(X_train, y_train)"
   ]
  },
  {
   "cell_type": "code",
   "execution_count": 13,
   "metadata": {},
   "outputs": [
    {
     "name": "stdout",
     "output_type": "stream",
     "text": [
      "Wall time: 1min 17s\n"
     ]
    },
    {
     "data": {
      "text/plain": [
       "array([9, 3, 6, 9, 3, 7, 0, 7, 6, 5, 1, 3, 6, 7, 7, 0, 8, 3, 3, 5, 9, 7,\n",
       "       9, 4, 1, 3, 4, 6, 1, 8, 2, 8, 1, 0, 9, 2, 6, 4, 2, 4, 5, 1, 1, 9,\n",
       "       4, 9, 2, 6, 8, 8, 1, 3, 1, 3, 1, 0, 5, 0, 3, 2, 4, 0, 7, 9, 2, 6,\n",
       "       9, 1, 0, 7, 7, 5, 2, 1, 5, 9, 7, 6, 4, 3, 6, 7, 0, 6, 9, 7, 4, 6,\n",
       "       7, 2, 7, 2, 7, 6, 6, 1, 6, 2, 8, 3, 9, 6, 5, 2, 6, 8, 3, 0, 4, 2,\n",
       "       5, 7, 1, 3, 9, 2, 8, 9, 5, 6, 8, 7, 7, 3, 1, 3, 6, 3, 2, 0, 6, 4,\n",
       "       5, 6, 4, 8, 8, 7, 3, 5, 4, 2, 1, 0, 9, 4, 7, 1, 7, 5, 7, 9, 0, 7,\n",
       "       6, 3, 2, 9, 4, 9, 3, 7, 1, 6, 9, 5, 1, 2, 6, 3, 0, 3, 6, 9, 5, 5,\n",
       "       6, 8, 8, 7, 1, 1, 2, 3, 3, 8, 0, 9, 2, 2, 1, 2, 0, 1, 6, 9, 4, 5,\n",
       "       8, 4, 4, 1, 0, 8, 7, 6, 5, 2, 1, 3, 8, 4, 2, 2, 6, 9, 4, 3, 1, 9,\n",
       "       0, 1, 5, 0, 9, 2, 7, 4, 6, 7, 2, 9, 0, 7, 4, 8, 9, 4, 3, 5, 5, 5,\n",
       "       9, 7, 0, 0, 8, 4, 4, 7, 7, 3, 9, 7, 3, 4, 1, 1, 1, 1, 5, 6, 6, 1,\n",
       "       3, 4, 3, 0, 4, 1, 1, 7, 3, 1, 8, 9, 6, 3, 3, 4, 9, 5, 0, 9, 4, 0,\n",
       "       1, 0, 2, 4, 5, 4, 4, 0, 2, 5, 1, 7, 0, 1, 8, 7, 3, 0, 0, 4, 0, 3,\n",
       "       0, 0, 2, 6, 1, 5, 4, 9, 3, 4, 8, 8, 9, 0, 0, 1, 3, 3, 2, 1, 7, 2,\n",
       "       0, 2, 7, 2, 2, 7, 0, 9, 5, 0, 5, 5, 4, 1, 2, 1, 4, 3, 7, 4, 0, 4,\n",
       "       5, 0, 6, 7, 8, 3, 6, 9, 2, 0, 7, 1, 6, 0, 3, 1, 6, 4, 1, 5, 8, 6,\n",
       "       7, 1, 1, 5, 6, 9, 3, 4, 3, 2, 2, 8, 0, 3, 3, 9, 8, 8, 5, 1, 5, 9,\n",
       "       2, 5, 7, 1, 0, 8, 3, 3, 3, 4, 1, 7, 2, 8, 5, 8, 4, 0, 0, 2, 9, 9,\n",
       "       6, 4, 7, 6, 7, 3, 6, 1, 9, 4, 7, 6, 1, 2, 2, 6, 1, 4, 5, 7, 2, 8,\n",
       "       3, 9, 7, 3, 8, 8, 5, 7, 4, 5, 4, 6, 2, 6, 6, 6, 1, 9, 4, 4, 5, 7,\n",
       "       2, 1, 3, 8, 7, 3, 9, 8, 2, 5, 3, 7, 1, 0, 5, 8, 2, 9, 6, 9, 6, 8,\n",
       "       2, 1, 8, 1, 3, 2, 2, 0, 3, 4, 2, 2, 8, 3, 6, 3, 2, 0, 6, 8, 8, 1,\n",
       "       0, 5, 0, 7, 1, 5, 4, 7, 0, 6, 0, 8, 2, 5, 9, 9, 6, 0, 8, 3, 6, 5,\n",
       "       0, 3, 7, 6, 1, 5, 3, 7, 2, 4, 4, 5, 1, 7, 0, 8, 3, 7, 0, 9, 2, 8,\n",
       "       2, 4, 0, 4, 2, 7, 9, 7, 1, 9, 2, 3, 6, 8, 7, 4, 1, 8, 4, 0, 3, 7,\n",
       "       9, 6, 7, 6, 0, 4, 9, 0, 7, 1, 1, 9, 3, 6, 1, 1, 8, 1, 4, 5, 3, 4,\n",
       "       8, 1, 3, 5, 9, 0], dtype=uint8)"
      ]
     },
     "execution_count": 13,
     "metadata": {},
     "output_type": "execute_result"
    }
   ],
   "source": [
    "%time clf.predict(X_test)"
   ]
  },
  {
   "cell_type": "code",
   "execution_count": 14,
   "metadata": {},
   "outputs": [
    {
     "name": "stdout",
     "output_type": "stream",
     "text": [
      "Wall time: 22min 56s\n"
     ]
    },
    {
     "data": {
      "text/plain": [
       "array([9, 3, 6, 9, 3, 7, 0, 7, 6, 5, 1, 3, 6, 7, 7, 0, 8, 3, 3, 5, 9, 7,\n",
       "       9, 4, 1, 3, 4, 6, 1, 8, 2, 8, 1, 0, 9, 2, 6, 4, 2, 4, 5, 1, 1, 9,\n",
       "       4, 9, 2, 6, 8, 8, 1, 3, 1, 3, 1, 0, 5, 0, 3, 2, 4, 0, 7, 9, 2, 6,\n",
       "       9, 1, 0, 7, 7, 5, 2, 1, 5, 9, 7, 6, 4, 3, 6, 7, 0, 6, 9, 7, 4, 6,\n",
       "       7, 2, 7, 2, 7, 6, 6, 1, 6, 2, 8, 3, 9, 6, 5, 2, 6, 8, 3, 0, 4, 2,\n",
       "       5, 7, 1, 3, 9, 2, 8, 9, 5, 6, 8, 7, 7, 3, 1, 3, 6, 3, 2, 0, 6, 4,\n",
       "       5, 6, 4, 8, 8, 7, 3, 5, 4, 2, 1, 0, 9, 4, 7, 1, 7, 5, 7, 9, 0, 7,\n",
       "       6, 3, 2, 9, 4, 9, 3, 7, 1, 6, 9, 5, 1, 2, 6, 3, 0, 3, 6, 9, 5, 5,\n",
       "       6, 8, 8, 7, 1, 1, 2, 3, 3, 8, 0, 9, 2, 2, 1, 2, 0, 1, 6, 9, 4, 5,\n",
       "       8, 4, 4, 1, 0, 8, 7, 6, 5, 2, 1, 3, 8, 4, 2, 2, 6, 9, 4, 3, 1, 9,\n",
       "       0, 1, 5, 0, 9, 2, 7, 4, 6, 7, 2, 9, 0, 7, 4, 8, 9, 4, 3, 5, 5, 5,\n",
       "       9, 7, 0, 0, 8, 4, 4, 7, 7, 3, 9, 7, 3, 4, 1, 1, 1, 1, 5, 6, 6, 1,\n",
       "       3, 4, 3, 0, 4, 1, 1, 7, 3, 1, 8, 9, 6, 3, 3, 4, 9, 5, 0, 9, 4, 0,\n",
       "       1, 0, 2, 4, 5, 4, 4, 0, 2, 5, 1, 7, 0, 1, 8, 7, 3, 0, 0, 4, 0, 3,\n",
       "       0, 0, 2, 6, 1, 5, 4, 9, 3, 4, 8, 8, 9, 0, 0, 1, 3, 3, 2, 1, 7, 2,\n",
       "       0, 2, 7, 2, 2, 7, 0, 9, 5, 0, 5, 5, 4, 1, 2, 1, 4, 3, 7, 4, 0, 4,\n",
       "       5, 0, 6, 7, 8, 3, 6, 9, 2, 0, 7, 1, 6, 0, 3, 1, 6, 4, 1, 5, 8, 6,\n",
       "       7, 1, 1, 5, 6, 9, 3, 4, 3, 2, 2, 8, 0, 3, 3, 9, 8, 8, 5, 1, 5, 9,\n",
       "       2, 5, 7, 1, 0, 8, 3, 3, 3, 4, 1, 7, 2, 8, 5, 8, 4, 0, 0, 2, 9, 9,\n",
       "       6, 4, 7, 6, 7, 3, 6, 1, 9, 4, 7, 6, 1, 2, 2, 6, 1, 4, 5, 7, 2, 8,\n",
       "       3, 9, 7, 3, 8, 8, 5, 7, 4, 5, 4, 6, 2, 6, 6, 6, 1, 9, 4, 4, 5, 7,\n",
       "       2, 1, 3, 8, 7, 3, 9, 8, 2, 5, 3, 7, 1, 0, 5, 8, 2, 9, 6, 9, 6, 8,\n",
       "       2, 1, 8, 1, 3, 2, 2, 0, 3, 4, 2, 2, 8, 3, 6, 3, 2, 0, 6, 8, 8, 1,\n",
       "       0, 5, 0, 7, 1, 5, 4, 7, 0, 6, 0, 8, 2, 5, 9, 9, 6, 0, 8, 3, 6, 5,\n",
       "       0, 3, 7, 6, 1, 5, 3, 7, 2, 4, 4, 5, 1, 7, 0, 8, 3, 7, 0, 9, 2, 8,\n",
       "       2, 4, 0, 4, 2, 7, 9, 7, 1, 9, 2, 3, 6, 8, 7, 4, 1, 8, 4, 0, 3, 7,\n",
       "       9, 6, 7, 6, 0, 4, 9, 0, 7, 1, 1, 9, 3, 6, 1, 1, 8, 1, 4, 5, 3, 4,\n",
       "       8, 1, 3, 5, 9, 0], dtype=int64)"
      ]
     },
     "execution_count": 14,
     "metadata": {},
     "output_type": "execute_result"
    }
   ],
   "source": [
    "%time my_clf.predict(X_test)"
   ]
  },
  {
   "cell_type": "code",
   "execution_count": 15,
   "metadata": {},
   "outputs": [
    {
     "name": "stdout",
     "output_type": "stream",
     "text": [
      "Wall time: 1min 17s\n"
     ]
    },
    {
     "data": {
      "text/plain": [
       "array([[0., 0., 0., ..., 0., 0., 1.],\n",
       "       [0., 0., 0., ..., 0., 0., 0.],\n",
       "       [0., 0., 0., ..., 0., 0., 0.],\n",
       "       ...,\n",
       "       [0., 0., 0., ..., 0., 0., 0.],\n",
       "       [0., 0., 0., ..., 0., 0., 1.],\n",
       "       [1., 0., 0., ..., 0., 0., 0.]])"
      ]
     },
     "execution_count": 15,
     "metadata": {},
     "output_type": "execute_result"
    }
   ],
   "source": [
    "%time clf.predict_proba(X_test)"
   ]
  },
  {
   "cell_type": "code",
   "execution_count": 16,
   "metadata": {},
   "outputs": [
    {
     "name": "stdout",
     "output_type": "stream",
     "text": [
      "Wall time: 0 ns\n"
     ]
    },
    {
     "data": {
      "text/plain": [
       "array([[0., 0., 0., ..., 0., 0., 1.],\n",
       "       [0., 0., 0., ..., 0., 0., 0.],\n",
       "       [0., 0., 0., ..., 0., 0., 0.],\n",
       "       ...,\n",
       "       [0., 0., 0., ..., 0., 0., 0.],\n",
       "       [0., 0., 0., ..., 0., 0., 1.],\n",
       "       [1., 0., 0., ..., 0., 0., 0.]])"
      ]
     },
     "execution_count": 16,
     "metadata": {},
     "output_type": "execute_result"
    }
   ],
   "source": [
    "%time my_clf.predict_proba(X_test)"
   ]
  },
  {
   "cell_type": "code",
   "execution_count": 17,
   "metadata": {},
   "outputs": [
    {
     "data": {
      "text/plain": [
       "0.9516666666666667"
      ]
     },
     "execution_count": 17,
     "metadata": {},
     "output_type": "execute_result"
    }
   ],
   "source": [
    "clf.score(X_test, y_test)"
   ]
  },
  {
   "cell_type": "code",
   "execution_count": 18,
   "metadata": {},
   "outputs": [
    {
     "data": {
      "text/plain": [
       "0.9516666666666667"
      ]
     },
     "execution_count": 18,
     "metadata": {},
     "output_type": "execute_result"
    }
   ],
   "source": [
    "my_clf.score(X_test, y_test)"
   ]
  },
  {
   "cell_type": "markdown",
   "metadata": {},
   "source": [
    "Задание 4"
   ]
  },
  {
   "cell_type": "code",
   "execution_count": 21,
   "metadata": {},
   "outputs": [],
   "source": [
    "clf = KNeighborsClassifier(n_neighbors=best_neighbors, algorithm='kd_tree')\n",
    "my_clf = MyKNeighborsClassifier(n_neighbors=best_neighbors, algorithm='kd_tree')"
   ]
  },
  {
   "cell_type": "code",
   "execution_count": 22,
   "metadata": {},
   "outputs": [],
   "source": [
    "X_train, y_train = loadlocal_mnist(\n",
    "        images_path='/mnist/train-images.idx3-ubyte',\n",
    "        labels_path='/mnist/train-labels.idx1-ubyte')\n",
    "X_test, y_test = loadlocal_mnist(\n",
    "        images_path='/mnist/t10k-images.idx3-ubyte',\n",
    "        labels_path='/mnist/t10k-labels.idx1-ubyte')"
   ]
  },
  {
   "cell_type": "code",
   "execution_count": 23,
   "metadata": {},
   "outputs": [
    {
     "name": "stdout",
     "output_type": "stream",
     "text": [
      "Wall time: 1min 20s\n"
     ]
    },
    {
     "data": {
      "text/plain": [
       "KNeighborsClassifier(algorithm='kd_tree', leaf_size=30, metric='minkowski',\n",
       "           metric_params=None, n_jobs=None, n_neighbors=2, p=2,\n",
       "           weights='uniform')"
      ]
     },
     "execution_count": 23,
     "metadata": {},
     "output_type": "execute_result"
    }
   ],
   "source": [
    "%time clf.fit(X_train, y_train)"
   ]
  },
  {
   "cell_type": "code",
   "execution_count": 28,
   "metadata": {},
   "outputs": [
    {
     "name": "stdout",
     "output_type": "stream",
     "text": [
      "Wall time: 1min 26s\n"
     ]
    }
   ],
   "source": [
    "%time my_clf.fit(X_train, y_train)"
   ]
  },
  {
   "cell_type": "code",
   "execution_count": 29,
   "metadata": {},
   "outputs": [
    {
     "name": "stdout",
     "output_type": "stream",
     "text": [
      "Wall time: 22min 14s\n"
     ]
    },
    {
     "data": {
      "text/plain": [
       "array([7, 2, 1, ..., 4, 5, 6], dtype=uint8)"
      ]
     },
     "execution_count": 29,
     "metadata": {},
     "output_type": "execute_result"
    }
   ],
   "source": [
    "%time clf.predict(X_test)"
   ]
  },
  {
   "cell_type": "code",
   "execution_count": 30,
   "metadata": {},
   "outputs": [
    {
     "name": "stdout",
     "output_type": "stream",
     "text": [
      "Wall time: 22min 17s\n"
     ]
    },
    {
     "data": {
      "text/plain": [
       "array([7, 2, 1, ..., 4, 5, 6])"
      ]
     },
     "execution_count": 30,
     "metadata": {},
     "output_type": "execute_result"
    }
   ],
   "source": [
    "%time my_clf.predict(X_test)"
   ]
  },
  {
   "cell_type": "code",
   "execution_count": 31,
   "metadata": {},
   "outputs": [
    {
     "name": "stdout",
     "output_type": "stream",
     "text": [
      "Wall time: 22min 7s\n"
     ]
    },
    {
     "data": {
      "text/plain": [
       "array([[0., 0., 0., ..., 1., 0., 0.],\n",
       "       [0., 0., 1., ..., 0., 0., 0.],\n",
       "       [0., 1., 0., ..., 0., 0., 0.],\n",
       "       ...,\n",
       "       [0., 0., 0., ..., 0., 0., 0.],\n",
       "       [0., 0., 0., ..., 0., 0., 0.],\n",
       "       [0., 0., 0., ..., 0., 0., 0.]])"
      ]
     },
     "execution_count": 31,
     "metadata": {},
     "output_type": "execute_result"
    }
   ],
   "source": [
    "%time clf.predict_proba(X_test)"
   ]
  },
  {
   "cell_type": "code",
   "execution_count": 32,
   "metadata": {},
   "outputs": [
    {
     "name": "stdout",
     "output_type": "stream",
     "text": [
      "Wall time: 22min 14s\n"
     ]
    },
    {
     "data": {
      "text/plain": [
       "array([0., 0., 0., ..., 0., 0., 0.])"
      ]
     },
     "execution_count": 32,
     "metadata": {},
     "output_type": "execute_result"
    }
   ],
   "source": [
    "%time my_clf.predict_proba(X_test)"
   ]
  },
  {
   "cell_type": "code",
   "execution_count": 33,
   "metadata": {},
   "outputs": [
    {
     "data": {
      "text/plain": [
       "0.9627"
      ]
     },
     "execution_count": 33,
     "metadata": {},
     "output_type": "execute_result"
    }
   ],
   "source": [
    "clf.score(X_test, y_test)"
   ]
  },
  {
   "cell_type": "code",
   "execution_count": 34,
   "metadata": {},
   "outputs": [
    {
     "data": {
      "text/plain": [
       "0.9627"
      ]
     },
     "execution_count": 34,
     "metadata": {},
     "output_type": "execute_result"
    }
   ],
   "source": [
    "my_clf.score(X_test, y_test)"
   ]
  },
  {
   "cell_type": "markdown",
   "metadata": {},
   "source": [
    "Задание 5"
   ]
  },
  {
   "cell_type": "code",
   "execution_count": null,
   "metadata": {},
   "outputs": [],
   "source": [
    "# seaborn - библиотека для визуализации данных, основанная на matplotlib (для быстрого построения графиков)\n",
    "\n",
    "# matplotlib - библиотека для визуализации данных двумерной графикой\n",
    "\n",
    "# train_test_split - случайно разделяет данные в необходимой пропрорции на тестовую и обучающую выборки \n",
    "\n",
    "# Pipelin%load_ext e (from sklearn.pipeline import Pipeline) - Позволяет последовательно выполнять \n",
    "# список действий над данными.\n",
    "\n",
    "# StandardScaler (from sklearn.preprocessing import StandardScaler) - класс, стандартизирующий фичи (среднее\n",
    "# значение - 0, стандартное отклонение - 1)\n",
    "\n",
    "# ClassifierMixin - Mixin класс для всех классификаторов в Scikit-Learn. Содержит в себе метод \n",
    "# score - показывающий среднее значение точности на выборке.\n",
    "\n",
    "# NeighborsBase - базовый класс sklearn для оценок ближайших соседей\n",
    "\n",
    "# KNeighborsMixin - класс из sklearn для поиска k-соседей\n",
    "\n",
    "# SupervisedIntegerMixin - класс, который предоставляет метод fit с параметрами X и y, \n",
    "# который обучает модель используя Х как данные у как значения."
   ]
  }
 ],
 "metadata": {
  "kernelspec": {
   "display_name": "Python 3",
   "language": "python",
   "name": "python3"
  },
  "language_info": {
   "codemirror_mode": {
    "name": "ipython",
    "version": 3
   },
   "file_extension": ".py",
   "mimetype": "text/x-python",
   "name": "python",
   "nbconvert_exporter": "python",
   "pygments_lexer": "ipython3",
   "version": "3.7.1"
  }
 },
 "nbformat": 4,
 "nbformat_minor": 2
}
